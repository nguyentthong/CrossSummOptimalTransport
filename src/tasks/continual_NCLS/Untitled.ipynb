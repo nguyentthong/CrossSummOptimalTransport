{
 "cells": [
  {
   "cell_type": "code",
   "execution_count": 118,
   "id": "e6aba628",
   "metadata": {},
   "outputs": [],
   "source": [
    "import re\n",
    "from tqdm import trange\n",
    "from rouge_score import rouge_scorer\n",
    "import numpy as np\n",
    "import torch"
   ]
  },
  {
   "cell_type": "markdown",
   "id": "641064a4",
   "metadata": {},
   "source": [
    "### Examples"
   ]
  },
  {
   "cell_type": "code",
   "execution_count": 111,
   "id": "3c08949b",
   "metadata": {},
   "outputs": [],
   "source": [
    "mclas_pred_file_path='./mclas/test_mclas.250000.canstr'\n",
    "ncls_pred_file_path='./ncls/test_ncls.250000.canstr'\n",
    "otkd_pred_file_path='./otkd/test.250000.canstr'\n",
    "\n",
    "mclas_gold_file_path='./mclas/test_mclas.250000.goldstr'\n",
    "ncls_gold_file_path='./ncls/test_ncls.250000.goldstr'\n",
    "otkd_gold_file_path='./otkd/test.250000.goldstr'\n",
    "\n",
    "mono_gold_file_path='./mclas/test_mclas.250000.gold_eng'"
   ]
  },
  {
   "cell_type": "code",
   "execution_count": 115,
   "id": "8dbc3322",
   "metadata": {},
   "outputs": [
    {
     "name": "stderr",
     "output_type": "stream",
     "text": [
      "100%|██████████| 2997/2997 [00:00<00:00, 1083649.06it/s]\n",
      "100%|██████████| 2997/2997 [00:00<00:00, 228004.23it/s]\n",
      "100%|██████████| 2997/2997 [00:00<00:00, 230124.65it/s]\n",
      "100%|██████████| 2997/2997 [00:00<00:00, 964870.21it/s]\n",
      "100%|██████████| 2997/2997 [00:00<00:00, 979378.97it/s]\n",
      "100%|██████████| 2997/2997 [00:00<00:00, 285293.78it/s]\n",
      "100%|██████████| 2997/2997 [00:00<00:00, 246864.28it/s]\n"
     ]
    }
   ],
   "source": [
    "with open(mclas_gold_file_path, 'r') as f: mclas_gold_lines=f.readlines()\n",
    "for i in trange(len(mclas_gold_lines)): mclas_gold_lines[i]=mclas_gold_lines[i].strip()\n",
    "    \n",
    "with open(ncls_gold_file_path, 'r') as f: ncls_gold_lines=f.readlines()\n",
    "for i in trange(len(ncls_gold_lines)): ncls_gold_lines[i]=re.sub(r'\\[unused[0-9]\\]','',ncls_gold_lines[i]).replace('[PAD]','').strip()    \n",
    "    \n",
    "with open(otkd_gold_file_path, 'r') as f: otkd_gold_lines=f.readlines()\n",
    "for i in trange(len(otkd_gold_lines)): otkd_gold_lines[i]=re.sub(r'\\[unused[0-9]\\]','',otkd_gold_lines[i]).replace('[PAD]','').strip()    \n",
    "\n",
    "with open(mono_gold_file_path, 'r') as f: mono_gold_lines=f.readlines()\n",
    "for i in trange(len(mono_gold_lines)): mono_gold_lines[i]=mono_gold_lines[i].strip()    \n",
    "    \n",
    "with open(mclas_pred_file_path, 'r') as f: mclas_lines=f.readlines()\n",
    "for i in trange(len(mclas_lines)): mclas_lines[i]=mclas_lines[i].strip()    \n",
    "    \n",
    "with open(ncls_pred_file_path, 'r') as f: ncls_lines=f.readlines()\n",
    "for i in trange(len(ncls_lines)): ncls_lines[i]=re.sub(r'\\[unused[0-9]\\]','',ncls_lines[i]).strip()    \n",
    "    \n",
    "with open(otkd_pred_file_path, 'r') as f: otkd_lines=f.readlines()\n",
    "for i in trange(len(otkd_lines)): otkd_lines[i]=re.sub(r'\\[unused[0-9]\\]','',otkd_lines[i]).strip()\n",
    "    \n",
    "mclas_sorted_args=np.argsort(mclas_gold_lines)\n",
    "ncls_sorted_args=np.argsort(ncls_gold_lines)\n",
    "otkd_sorted_args=np.argsort(otkd_gold_lines)\n",
    "\n",
    "pred_mclas_lines=[]\n",
    "pred_ncls_lines=[]\n",
    "pred_otkd_lines=[]\n",
    "label_mclas_lines=[]\n",
    "label_ncls_lines=[]\n",
    "label_otkd_lines=[]\n",
    "label_mono_lines=[]\n",
    "\n",
    "for i in mclas_sorted_args: pred_mclas_lines.append(mclas_lines[i])\n",
    "for i in ncls_sorted_args: pred_ncls_lines.append(ncls_lines[i])    \n",
    "for i in otkd_sorted_args: pred_otkd_lines.append(otkd_lines[i])\n",
    "for i in mclas_sorted_args: label_mclas_lines.append(mclas_gold_lines[i])\n",
    "for i in ncls_sorted_args: label_ncls_lines.append(ncls_gold_lines[i])    \n",
    "for i in otkd_sorted_args: label_otkd_lines.append(otkd_gold_lines[i])\n",
    "for i in mclas_sorted_args: label_mono_lines.append(mono_gold_lines[i])"
   ]
  },
  {
   "cell_type": "code",
   "execution_count": 113,
   "id": "f551c856",
   "metadata": {},
   "outputs": [
    {
     "name": "stderr",
     "output_type": "stream",
     "text": [
      "100%|██████████| 2997/2997 [00:05<00:00, 540.04it/s]\n",
      "100%|██████████| 2997/2997 [00:06<00:00, 483.83it/s]\n",
      "100%|██████████| 2997/2997 [00:06<00:00, 491.63it/s]\n"
     ]
    }
   ],
   "source": [
    "mclas_rouge_scorer_rouge1_list = []\n",
    "ncls_rouge_scorer_rouge1_list = []\n",
    "otkd_rouge_scorer_rouge1_list = []\n",
    "\n",
    "scorer = rouge_scorer.RougeScorer(['rouge1', 'rouge2', 'rougeL', 'rougeLsum'], use_stemmer=True)\n",
    "for i in trange(len(mclas_gold_lines)): mclas_rouge_scorer_rouge1_list.append(scorer.score(pred_mclas_lines[i].strip(),label_mclas_lines[i].strip())['rouge1'].fmeasure)\n",
    "for i in trange(len(ncls_gold_lines)): ncls_rouge_scorer_rouge1_list.append(scorer.score(pred_ncls_lines[i].strip(),label_ncls_lines[i].strip())['rouge1'].fmeasure)\n",
    "for i in trange(len(otkd_gold_lines)): otkd_rouge_scorer_rouge1_list.append(scorer.score(pred_otkd_lines[i].strip(),label_otkd_lines[i].strip())['rouge1'].fmeasure)"
   ]
  },
  {
   "cell_type": "code",
   "execution_count": 79,
   "id": "3e9f42c3",
   "metadata": {},
   "outputs": [
    {
     "name": "stdout",
     "output_type": "stream",
     "text": [
      "OTKD: 0.37716121880163717\n",
      "NCLS: 0.3866214169465592\n",
      "MCLAS: 0.35344512244020043\n"
     ]
    }
   ],
   "source": [
    "print('OTKD:',np.mean(otkd_rouge_scorer_rouge1_list))\n",
    "print('NCLS:',np.mean(ncls_rouge_scorer_rouge1_list))\n",
    "print('MCLAS:',np.mean(mclas_rouge_scorer_rouge1_list))"
   ]
  },
  {
   "cell_type": "code",
   "execution_count": 104,
   "id": "9b7ce50d",
   "metadata": {},
   "outputs": [
    {
     "name": "stderr",
     "output_type": "stream",
     "text": [
      "100%|██████████| 2997/2997 [00:00<00:00, 1036386.27it/s]\n"
     ]
    }
   ],
   "source": [
    "quirky_indices=[]\n",
    "for i in trange(len(otkd_rouge_scorer_rouge1_list)):\n",
    "    if otkd_rouge_scorer_rouge1_list[i]<=0.6 and otkd_rouge_scorer_rouge1_list[i]>ncls_rouge_scorer_rouge1_list[i]+0.3 and otkd_rouge_scorer_rouge1_list[i]>mclas_rouge_scorer_rouge1_list[i]+0.3:\n",
    "        quirky_indices.append(i)"
   ]
  },
  {
   "cell_type": "code",
   "execution_count": 106,
   "id": "c9f06a9c",
   "metadata": {},
   "outputs": [
    {
     "data": {
      "text/plain": [
       "[166, 647, 1601, 1711, 1942, 2125, 2381, 2550, 2832]"
      ]
     },
     "execution_count": 106,
     "metadata": {},
     "output_type": "execute_result"
    }
   ],
   "source": [
    "quirky_indices"
   ]
  },
  {
   "cell_type": "code",
   "execution_count": 116,
   "id": "89c40351",
   "metadata": {
    "scrolled": true
   },
   "outputs": [
    {
     "name": "stdout",
     "output_type": "stream",
     "text": [
      "NCLS: pupils who did not finish their homework on time were slapped by their teachers\n",
      "\n",
      "MCLAS: pupils were slapped by their teachers for failing to complete their homework on time\n",
      "\n",
      "OTKD: hefei primary school students were slapped by teachers for failing to complete their homework\n",
      "\n",
      "Gold: a hefei primary school teacher compensated 10 , 000 yuan for slapping students\n",
      "\n",
      "Mono Gold: 合肥 一 小学 老师 打 学生 一 耳光 赔偿 1万 元\n",
      "=============================================================================================================================\n",
      "NCLS: korean media : chinese fishermen are tired of being kidnapped in the waters of the dprk\n",
      "\n",
      "MCLAS: why korean fishermen are reluctant to \" near boats \"\n",
      "\n",
      "OTKD: chinese fishermen in dandong , liaoning province : fishing boats can ' t survive without \" fishing boats \"\n",
      "\n",
      "Gold: dandong fishing \" boat fare \" under gun muzzle : fishermen can not survive without north korea\n",
      "\n",
      "Mono Gold: 枪口 下 的 丹东 捕鱼 “ 傍 艇 费 ” ： 渔民 不 傍 朝鲜 无法 生存\n",
      "=============================================================================================================================\n",
      "NCLS: \" dao - snatching youth \" can ' t open the moral bonus mouth\n",
      "\n",
      "MCLAS: \" knife - snatching youth \" can ' t open the mouth of moral plus points\n",
      "\n",
      "OTKD: \" dao - snatching juveniles \" should not add points to the college entrance examination\n",
      "\n",
      "Gold: nandu editorial : college entrance examination should meet human needs without negative incentives\n",
      "\n",
      "Mono Gold: 南 都 社论 ： 高考 应在 避免 负面 激励 前提 下 满足 人性 需求\n",
      "=============================================================================================================================\n",
      "NCLS: china ' s first industry standard for business office buildings will be issued next year\n",
      "\n",
      "MCLAS: business office buildings will be divided into star hotels\n",
      "\n",
      "OTKD: ministry of housing and construction : office buildings will be divided into five - star hotels next year\n",
      "\n",
      "Gold: office star standard report to ministry of housing and construction\n",
      "\n",
      "Mono Gold: 写字楼 星级 标准 上报 住 建部\n",
      "=============================================================================================================================\n",
      "NCLS: where are the roadside parking spaces near chaoyang business circle in nanhu ?\n",
      "\n",
      "MCLAS: new road parking fee policy : nanhu biyuan , jinhu business circle , chaoyang business circle\n",
      "\n",
      "OTKD: where is the roadside parking fee ? look at the underground parking lot .\n",
      "\n",
      "Gold: roadside parking is too expensive . you have to remember these underground parking lots .\n",
      "\n",
      "Mono Gold: 路边 停车 太贵 ， 你 要 记住 这些 地下 停车场\n",
      "=============================================================================================================================\n",
      "NCLS: sinopec promised to invest 30 billion yuan annually to supply the fourth national standard oil products\n",
      "\n",
      "MCLAS: sinopec promises to supply four national standard oil products next year\n",
      "\n",
      "OTKD: sinopec ' s \" haze besieged city \" : 70 % of the cost is paid by consumers\n",
      "\n",
      "Gold: sinopec announces that 70 % of the cost of upgrading oil products will be paid by consumers .\n",
      "\n",
      "Mono Gold: 中石化 高调 宣布 油品 升级 70% 成本 需 消费者 埋单\n",
      "=============================================================================================================================\n",
      "NCLS: how to use social funds to invest in twitter stocks in the future\n",
      "\n",
      "MCLAS: how to list on twitter ?\n",
      "\n",
      "OTKD: twitter ' s first day of listing is to be a simple investor ? !\n",
      "\n",
      "Gold: the first lesson of being a twitter investor\n",
      "\n",
      "Mono Gold: 成为 twitter 投资者 的 第一 课\n",
      "=============================================================================================================================\n",
      "NCLS: in the first quarter , the profit of iron and steel enterprises decreased by 0 . 79 % year on year .\n",
      "\n",
      "MCLAS: china steel association : the profit of steel enterprises in the first quarter was 2 . 339 billion yuan\n",
      "\n",
      "OTKD: china steel association : the first quarter is the most difficult period since the new century .\n",
      "\n",
      "Gold: the steel industry enters the most difficult era in the new century\n",
      "\n",
      "Mono Gold: 钢铁 行业 进入 新 世纪 最 困难 时代\n",
      "=============================================================================================================================\n",
      "NCLS: the u . s . security service has monitored merkel ' s private phone since 2002 .\n",
      "\n",
      "MCLAS: u . s . security agency monitors merkel ' s private telephone\n",
      "\n",
      "OTKD: u . s . eavesdropping scandal escalated and the white house denied it .\n",
      "\n",
      "Gold: white house want to cover espionage scandal\n",
      "\n",
      "Mono Gold: 白宫 的 间谍 丑闻 欲盖弥彰\n",
      "=============================================================================================================================\n"
     ]
    }
   ],
   "source": [
    "for idx in quirky_indices:    \n",
    "    print('NCLS:',pred_ncls_lines[idx])\n",
    "    print()\n",
    "    print('MCLAS:',pred_mclas_lines[idx])\n",
    "    print()\n",
    "    print('OTKD:',pred_otkd_lines[idx])\n",
    "    print()\n",
    "    print('Gold:',label_otkd_lines[idx])\n",
    "    print()\n",
    "    print('Mono Gold:',label_mono_lines[idx])\n",
    "    print('='*125)"
   ]
  },
  {
   "cell_type": "code",
   "execution_count": 65,
   "id": "1297f89d",
   "metadata": {
    "scrolled": true
   },
   "outputs": [
    {
     "name": "stdout",
     "output_type": "stream",
     "text": [
      "Gold: russian real - human version of \" barbie doll \"\n"
     ]
    }
   ],
   "source": [
    "print('Gold:',ncls_gold_lines[idx])"
   ]
  },
  {
   "cell_type": "markdown",
   "id": "ce46a967",
   "metadata": {},
   "source": [
    "### Representations"
   ]
  },
  {
   "cell_type": "code",
   "execution_count": 117,
   "id": "4874cffa",
   "metadata": {},
   "outputs": [],
   "source": [
    "ncls_model_path='/vinai/thongnt66/Repos/cross-lingual/MCLAS/ncls_model_abs_en2zh_noseg/model_step_130000.pt'\n",
    "mclas_model_path='/vinai/thongnt66/Repos/cross-lingual/MCLAS/mclas_model_abs_en2zh_noseg/model_step_130000.pt'\n",
    "otkd_model_path='/vinai/thongnt66/Repos/cross-lingual/cross-lingual-lx/snap/continual_NCLS_en2zh-en2zh-ot_loss/model_step_130000.pt'"
   ]
  }
 ],
 "metadata": {
  "kernelspec": {
   "display_name": "Python 3",
   "language": "python",
   "name": "python3"
  },
  "language_info": {
   "codemirror_mode": {
    "name": "ipython",
    "version": 3
   },
   "file_extension": ".py",
   "mimetype": "text/x-python",
   "name": "python",
   "nbconvert_exporter": "python",
   "pygments_lexer": "ipython3",
   "version": "3.7.10"
  }
 },
 "nbformat": 4,
 "nbformat_minor": 5
}
